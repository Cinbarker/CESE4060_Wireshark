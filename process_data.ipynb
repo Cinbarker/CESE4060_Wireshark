{
 "cells": [
  {
   "cell_type": "markdown",
   "id": "770ea63e773edbdb",
   "metadata": {},
   "source": [
    "Le Project"
   ]
  },
  {
   "cell_type": "code",
   "execution_count": 3,
   "id": "initial_id",
   "metadata": {
    "collapsed": true
   },
   "outputs": [],
   "source": [
    "import pyshark"
   ]
  },
  {
   "cell_type": "markdown",
   "id": "93e4be655f4e68ac",
   "metadata": {},
   "source": [
    "## Load and process data"
   ]
  },
  {
   "cell_type": "code",
   "execution_count": null,
   "id": "4c9c5728ae9ca6dd",
   "metadata": {},
   "outputs": [
    {
     "ename": "FileNotFoundError",
     "evalue": "[Errno 2] No such file or directory: Bagels_and_Beans_wifi_capture_2025-02-24_00-17-08.pcap",
     "output_type": "error",
     "traceback": [
      "\u001b[0;31m---------------------------------------------------------------------------\u001b[0m",
      "\u001b[0;31mFileNotFoundError\u001b[0m                         Traceback (most recent call last)",
      "Cell \u001b[0;32mIn[4], line 1\u001b[0m\n\u001b[0;32m----> 1\u001b[0m capture \u001b[38;5;241m=\u001b[39m \u001b[43mpyshark\u001b[49m\u001b[38;5;241;43m.\u001b[39;49m\u001b[43mFileCapture\u001b[49m\u001b[43m(\u001b[49m\u001b[43minput_file\u001b[49m\u001b[43m \u001b[49m\u001b[38;5;241;43m=\u001b[39;49m\u001b[43m \u001b[49m\u001b[38;5;124;43m\"\u001b[39;49m\u001b[38;5;124;43mBagels_and_Beans_wifi_capture_2025-02-24_00-17-08.pcap\u001b[39;49m\u001b[38;5;124;43m\"\u001b[39;49m\u001b[43m)\u001b[49m\n\u001b[1;32m      3\u001b[0m retransmissions \u001b[38;5;241m=\u001b[39m \u001b[38;5;241m0\u001b[39m\n\u001b[1;32m      5\u001b[0m \u001b[38;5;28;01mfor\u001b[39;00m packet \u001b[38;5;129;01min\u001b[39;00m capture :\n\u001b[1;32m      6\u001b[0m         \u001b[38;5;66;03m# obtain all the field names within the ETH packets\u001b[39;00m\n",
      "File \u001b[0;32m~/.local/lib/python3.12/site-packages/pyshark/capture/file_capture.py:47\u001b[0m, in \u001b[0;36mFileCapture.__init__\u001b[0;34m(self, input_file, keep_packets, display_filter, only_summaries, decryption_key, encryption_type, decode_as, disable_protocol, tshark_path, override_prefs, use_json, use_ek, output_file, include_raw, eventloop, custom_parameters, debug)\u001b[0m\n\u001b[1;32m     45\u001b[0m \u001b[38;5;28mself\u001b[39m\u001b[38;5;241m.\u001b[39minput_filepath \u001b[38;5;241m=\u001b[39m pathlib\u001b[38;5;241m.\u001b[39mPath(input_file)\n\u001b[1;32m     46\u001b[0m \u001b[38;5;28;01mif\u001b[39;00m \u001b[38;5;129;01mnot\u001b[39;00m \u001b[38;5;28mself\u001b[39m\u001b[38;5;241m.\u001b[39minput_filepath\u001b[38;5;241m.\u001b[39mexists():\n\u001b[0;32m---> 47\u001b[0m     \u001b[38;5;28;01mraise\u001b[39;00m \u001b[38;5;167;01mFileNotFoundError\u001b[39;00m(\u001b[38;5;124mf\u001b[39m\u001b[38;5;124m\"\u001b[39m\u001b[38;5;124m[Errno 2] No such file or directory: \u001b[39m\u001b[38;5;132;01m{\u001b[39;00m\u001b[38;5;28mself\u001b[39m\u001b[38;5;241m.\u001b[39minput_filepath\u001b[38;5;132;01m}\u001b[39;00m\u001b[38;5;124m\"\u001b[39m)\n\u001b[1;32m     48\u001b[0m \u001b[38;5;28;01mif\u001b[39;00m \u001b[38;5;129;01mnot\u001b[39;00m \u001b[38;5;28mself\u001b[39m\u001b[38;5;241m.\u001b[39minput_filepath\u001b[38;5;241m.\u001b[39mis_file():\n\u001b[1;32m     49\u001b[0m     \u001b[38;5;28;01mraise\u001b[39;00m \u001b[38;5;167;01mFileNotFoundError\u001b[39;00m(\u001b[38;5;124mf\u001b[39m\u001b[38;5;124m\"\u001b[39m\u001b[38;5;132;01m{\u001b[39;00m\u001b[38;5;28mself\u001b[39m\u001b[38;5;241m.\u001b[39minput_filepath\u001b[38;5;132;01m}\u001b[39;00m\u001b[38;5;124m is a directory\u001b[39m\u001b[38;5;124m\"\u001b[39m)\n",
      "\u001b[0;31mFileNotFoundError\u001b[0m: [Errno 2] No such file or directory: Bagels_and_Beans_wifi_capture_2025-02-24_00-17-08.pcap"
     ]
    }
   ],
   "source": [
    "capture = pyshark.FileCapture(input_file = \"/home/esther/Documents/IOT/Bagels_and_Beans_wifi_capture_2025-02-24_00-17-08.pcap\")\n",
    "\n",
    "retransmissions = 0\n",
    "\n",
    "for packet in capture :\n",
    "        # obtain all the field names within the ETH packets\n",
    "        field_names = packet.radiotap._all_fields\n",
    "\n",
    "        # obtain all the field values\n",
    "        field_values = packet.radiotap._all_fields.values()\n",
    "\n",
    "        # enumerate the field names and field values\n",
    "        for field_name, field_value in zip(field_names, field_values):\n",
    "            print(f'{field_name}:  {field_value}')\n"
   ]
  }
 ],
 "metadata": {
  "kernelspec": {
   "display_name": "Python 3 (ipykernel)",
   "language": "python",
   "name": "python3"
  },
  "language_info": {
   "codemirror_mode": {
    "name": "ipython",
    "version": 3
   },
   "file_extension": ".py",
   "mimetype": "text/x-python",
   "name": "python",
   "nbconvert_exporter": "python",
   "pygments_lexer": "ipython3",
   "version": "3.12.9"
  }
 },
 "nbformat": 4,
 "nbformat_minor": 5
}
